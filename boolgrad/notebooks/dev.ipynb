{
 "cells": [
  {
   "cell_type": "code",
   "execution_count": 2,
   "metadata": {},
   "outputs": [
    {
     "name": "stdout",
     "output_type": "stream",
     "text": [
      "The autoreload extension is already loaded. To reload it, use:\n",
      "  %reload_ext autoreload\n"
     ]
    }
   ],
   "source": [
    "%load_ext autoreload\n",
    "%autoreload 2\n",
    "import os\n",
    "import sys\n",
    "\n",
    "module_path = os.path.abspath(os.path.join('../')) # or the path\n",
    "sys.path.append(module_path)\n",
    "\n",
    "from engine import Bool\n",
    "import itertools\n",
    "import pandas as pd\n",
    "import numpy as np"
   ]
  },
  {
   "cell_type": "markdown",
   "metadata": {},
   "source": [
    "# Boolean Variation\n",
    "[BOLD: Boolean Logic Deep Learning](https://arxiv.org/pdf/2405.16339) introduced a mathematical theory to caculuate graidents on Boolean Variables. Below are some necessary info to realize the truth tables, define a Boolean Deep Learning model, and train the network using Backprop. See the paper for details. The following are taken from the paper.\n",
    "\n",
    "## Definition\n",
    "\n",
    "### Three-value and Mixed logic\n",
    "1. Define $\\mathcal{M} \\equiv \\mathcal{B} \\cup \\{0\\}$ with logic connectives defined according to those of Boolean logic as follows. \n",
    "    - First, the negation is: $\\neg True = False$, $\\neg False = True$, and $\\neg 0 = 0$. \n",
    "    - Second, let $\\mathcal{L}$ be a logic connective, denote by $\\mathcal{L}_{\\mathcal{M}}$ and $\\mathcal{L}_{\\mathcal{B}}$ when it is in $\\mathcal{M}$ and in $\\mathcal{B}$, respectively, then $\\mathcal{L}_{\\mathcal{Mb}}(a,b) = \\mathcal{L}_{\\mathcal{Bb}}(a,b)$ for $a, b \\in \\mathcal{B}$ and $\\mathcal{L}_{\\mathcal{M}}(a,b) = 0$ otherwise.\n",
    "2. Denote by $\\mathcal{L}$ a logic set (e.g., $\\mathcal{B}$ or $\\mathcal{M}$), $\\mathcal{R}$ the real set, $\\mathcal{Z}$ the set of integers, $\\mathcal{N}$ a numeric set (e.g., $\\mathcal{R}$ or $\\mathcal{Z}$), and $\\mathcal{D}$ a certain set of $\\mathcal{L}$ or $\\mathcal{N}$.\n",
    "3. For $x \\in \\mathcal{N}$, its logic value denoted by $x_{logic}$ is given as $x_{logic} = True \\Leftrightarrow x > 0$, $x_{logic} = False \\Leftrightarrow x < 0$, and $x_{logic} = 0 \\Leftrightarrow x = 0$.\n",
    "4. The magnitude of a variable $x$, denoted $|x|$, is defined as its usual absolute value if $x \\in \\mathcal{N}$. And for $x \\in \\mathcal{L}$: $|x| = 0$ if $x = 0$, and $|x| = 1$ otherwise.\n",
    "5. For $\\mathcal{L}$ a logic connective of $\\mathcal{L}$ and variables $a$, $b$, operation $c = \\mathcal{L}(a, b)$ is defined such that $|c| = |a||b|$ and $c_{logic} = \\mathcal{L}(a_{logic}, b_{logic})$. \n",
    "\n",
    "\n",
    "### Calculus\n",
    "1. A variable x is (extended) Boolean variable with the following encoding $x \\in \\{-1,0,1\\}$ where $-1$ represents logical $False$, $+1$ represents logical $True$, and $0$ represents $Ignore$. We can call this extended Boolean domain.\n",
    "2. Order relations $<$ and $>$ in $\\mathcal{B}$ are defined as follows: $False < True$, and $True > False$.\n",
    "3. For $a, b \\in \\mathcal{B}$, the variation from $a$ to $b$, denoted $\\delta(a \\to b)$, is defined as: $\\delta(a \\to b) \\equiv True$ if $b > a$, $\\equiv 0$ if $b = a$, and $\\equiv False$ if $b < a$.\n",
    "4. For $f \\in \\mathcal{F}(\\mathcal{B}, \\mathcal{D})$, $\\forall x \\in \\mathcal{B}$, write $\\delta f(x \\to \\neg x) := \\delta(f(x) \\to f(\\neg x))$. The variation of $f$ w.r.t $x$, denoted $f'(x)$, is defined as: $f'(x) \\equiv \\text{xnor}(\\delta(x \\to \\neg x), \\delta f(x \\to \\neg x))$.\n",
    "\n",
    "For simplicity, we will write $\\delta f$ to denote $\\delta f(x \\to \\neg x)$. Similarly, $\\delta x$ to denote $\\delta (x \\to \\neg x)$ \n",
    "\n",
    "\n",
    "For details see, Section 3.2 of [BOLD: Boolean Logic Deep Learning](https://arxiv.org/pdf/2405.16339)"
   ]
  },
  {
   "cell_type": "markdown",
   "metadata": {},
   "source": [
    "### AND Gate\n",
    "#### Truth Table\n",
    "\n",
    "| $x_1$ | $x_2$ | $y_{AND}$ | \n",
    "|-----|-----|-----|\n",
    "T| T | T | \n",
    "T| F | F |\n",
    "F| T | F | \n",
    "F| F | F |\n",
    "\n",
    "$AND(x_1,x_2) \\equiv 0$ if any of the inputs are 0, by definition.\n",
    "\n",
    "#### Derivative\n",
    "\n",
    "Recall:\n",
    "1. $\\delta(a \\to b) \\equiv True$ if $b > a$, $\\equiv 0$ if $b = a$, and $\\equiv False$ if $b < a$.\n",
    "2. $f'(x) \\equiv \\text{xnor}(\\delta(x \\to \\neg x), \\delta f(x \\to \\neg x))$.\n",
    "\n",
    "The Truth Table for $f(x) = f_a(x) = AND(x,a)$ is:\n",
    "\n",
    "| $a$ | $x$ | $\\neg x$ | $\\delta x$ | $f(x)$ |$f(\\neg x)$ |  $\\delta f$ | $f'$ \n",
    "|-----|-----|-----|-----| -----| -----|-----|-----|\n",
    "T| T | F | F | T | F | F | T | \n",
    "T| F | T | T | F | T | T | T | \n",
    "F| T | F | F | F | F | 0 | 0 |\n",
    "F| F | T | T | F | F | 0 | 0 |\n",
    "\n",
    "Therefore, $f'_{a}(x) = \\text{T} \\text{ iff } a=T, 0 \\text{ o.w}$\n",
    "\n",
    "\n",
    "### OR Gate\n",
    "\n",
    "#### Truth Table\n",
    "\n",
    "| $x_1$ | $x_2$ | $y_{OR}$ | \n",
    "|-----|-----|-----|\n",
    "T| T | T | \n",
    "T| F | T |\n",
    "F| T | T | \n",
    "F| F | F |\n",
    "\n",
    "$AND(x_1,x_2) \\equiv 0$ if any of the inputs are 0, by definition.\n",
    "\n",
    "#### Derivative\n",
    "\n",
    "$f'_{a}(x) = \\text{F} \\text{ iff } a=F, 0 \\text{ o.w}$\n",
    "\n",
    "### XOR Gate\n",
    "\n",
    "#### Truth Table\n",
    "\n",
    "| $x_1$ | $x_2$ | $y_{XOR}$ | \n",
    "|-----|-----|-----|\n",
    "T| T | F | \n",
    "T| F | T |\n",
    "F| T | T | \n",
    "F| F | F |\n",
    "\n",
    "$XOR(x_1,x_2) \\equiv 0$ if any of the inputs are 0, by definition.\n",
    "\n",
    "#### Derivative\n",
    "\n",
    "$f'_{a}(x) = \\neg a$\n"
   ]
  },
  {
   "cell_type": "markdown",
   "metadata": {},
   "source": [
    "## AND Gate"
   ]
  },
  {
   "cell_type": "code",
   "execution_count": 3,
   "metadata": {},
   "outputs": [
    {
     "name": "stdout",
     "output_type": "stream",
     "text": [
      "   a  x  f  f'\n",
      "0 -1 -1 -1   0\n",
      "1 -1  1 -1   0\n",
      "2 -1  0  0   0\n",
      "3  1 -1 -1   1\n",
      "4  1  1  1   1\n",
      "5  1  0  0   0\n",
      "6  0 -1  0   0\n",
      "7  0  1  0   0\n",
      "8  0  0  0   0\n"
     ]
    }
   ],
   "source": [
    "# check AND gate. Logic and Derivative\n",
    "\n",
    "def test_2ary(gate='AND'):\n",
    "    A = [-1,1,0]\n",
    "    X = [-1,1,0]\n",
    "    data = []\n",
    "    for element in itertools.product(*[A,X]):\n",
    "        a,x = element\n",
    "        xb = Bool(x)\n",
    "        ab = Bool(a)\n",
    "        if gate == 'AND':\n",
    "            z = ab*xb\n",
    "        elif gate == 'OR':\n",
    "            z = ab+xb\n",
    "        else:\n",
    "            z = ab^xb\n",
    "        \n",
    "        z.backward()\n",
    "        data.append({\n",
    "                'a': a,\n",
    "                'x': x,\n",
    "                'f': z.data,\n",
    "                'f\\'': xb.grad\n",
    "            })\n",
    "\n",
    "    df = pd.DataFrame(data)\n",
    "    return df\n",
    "df = test_2ary()\n",
    "print(df)"
   ]
  },
  {
   "cell_type": "markdown",
   "metadata": {},
   "source": [
    "Can see that $f'_a(x)$ is $1$ only when $a=1$, o.w it is 0."
   ]
  },
  {
   "cell_type": "markdown",
   "metadata": {},
   "source": [
    "## OR Gate"
   ]
  },
  {
   "cell_type": "code",
   "execution_count": 4,
   "metadata": {},
   "outputs": [
    {
     "name": "stdout",
     "output_type": "stream",
     "text": [
      "   a  x  f  f'\n",
      "0 -1 -1 -1  -1\n",
      "1 -1  1  1  -1\n",
      "2 -1  0  0   0\n",
      "3  1 -1  1   0\n",
      "4  1  1  1   0\n",
      "5  1  0  0   0\n",
      "6  0 -1  0   0\n",
      "7  0  1  0   0\n",
      "8  0  0  0   0\n"
     ]
    }
   ],
   "source": [
    "# check AND gate. Logic and Derivative\n",
    "df = test_2ary(gate='OR')\n",
    "print(df)"
   ]
  },
  {
   "cell_type": "markdown",
   "metadata": {},
   "source": [
    "Can see that $f'_a(x)$ is $-1$ only when $a=-1$, o.w it is 0."
   ]
  },
  {
   "cell_type": "markdown",
   "metadata": {},
   "source": [
    "## XOR Gate"
   ]
  },
  {
   "cell_type": "code",
   "execution_count": 5,
   "metadata": {},
   "outputs": [
    {
     "name": "stdout",
     "output_type": "stream",
     "text": [
      "   a  x  f  f'\n",
      "0 -1 -1 -1   1\n",
      "1 -1  1  1   1\n",
      "2 -1  0  0   0\n",
      "3  1 -1  1  -1\n",
      "4  1  1 -1  -1\n",
      "5  1  0  0   0\n",
      "6  0 -1  0   0\n",
      "7  0  1  0   0\n",
      "8  0  0  0   0\n"
     ]
    }
   ],
   "source": [
    "# check AND gate. Logic and Derivative\n",
    "df = test_2ary(gate='XOR')\n",
    "print(df)"
   ]
  },
  {
   "cell_type": "markdown",
   "metadata": {},
   "source": [
    "Can see that $f'_a(x)$ is $\\neg a$ and is 0 when a is 0."
   ]
  },
  {
   "cell_type": "markdown",
   "metadata": {},
   "source": [
    "## Compositions\n",
    "\n",
    "\n",
    "**Chain Rule**\n",
    "\n",
    "For $\\mathcal{B} \\overset{f}{\\to} \\mathcal{B} \\overset{g}{\\to} \\mathcal{D}$: $(g \\circ f)'(x) = \\text{xnor}(g'(f(x)), f'(x))$, $\\forall x \\in \\mathcal{B}$.\n",
    "\n",
    "**Multivariate Chain Rule**\n",
    "\n",
    "1. For $x = (x_1, \\ldots, x_n) \\in \\mathcal{B}^n$, denote $x_{\\neg i} := (x_1, \\ldots, x_{i-1}, \\neg x_i, x_{i+1}, \\ldots, x_n)$ for $n \\ge 1$ and $1 \\leq i \\leq n$.\n",
    "\n",
    "2. For $f \\in \\mathcal{F}(\\mathcal{B}^n, \\mathcal{B})$, the (partial) variation of $f$ wrt $x_i$, denoted $f'_{i}(x)$ or $\\delta f(x)/\\delta x_i$, is defined as: $f'_{i}(x) \\equiv \\delta f(x)/\\delta x_i \\equiv xnor(\\delta(x_i \\to \\neg x_i), \\delta f(x \\to x_{\\neg i}))$.\n",
    "\n",
    "3.  Let $f \\in \\mathcal{F}(\\mathcal{B}^n, \\mathcal{B})$, $n \\geq 1$, and $g \\in \\mathcal{F}(\\mathcal{B}, \\mathcal{B})$. For $1 \\le i \\le n$,\n",
    "\n",
    "$$(g \\circ f)'_i(x) = \\text{xnor}(g'(f(x)), f'_i(x)), \\quad \\forall x \\in \\mathcal{B}^n$$\n"
   ]
  },
  {
   "cell_type": "code",
   "execution_count": 6,
   "metadata": {},
   "outputs": [
    {
     "name": "stdout",
     "output_type": "stream",
     "text": [
      "                x1               x2  f: x1 * x2  f'(x1)\n",
      "0  data:-1, grad:0  data:-1, grad:0          -1       0\n",
      "1  data:-1, grad:1   data:1, grad:0          -1       1\n",
      "2  data:-1, grad:0   data:0, grad:0           0       0\n",
      "3   data:1, grad:0  data:-1, grad:1          -1       0\n",
      "4   data:1, grad:1   data:1, grad:1           1       1\n",
      "5   data:1, grad:0   data:0, grad:0           0       0\n",
      "6   data:0, grad:0  data:-1, grad:0           0       0\n",
      "7   data:0, grad:0   data:1, grad:0           0       0\n",
      "8   data:0, grad:0   data:0, grad:0           0       0\n"
     ]
    }
   ],
   "source": [
    "\n",
    "def test_Kary(expression = \"x1*x2\", K=2):\n",
    "    T = [-1, 1, 0]\n",
    "   \n",
    "    # Create the Cartesian product of T repeated K times\n",
    "    cartesian_product = list(itertools.product(T, repeat=K))\n",
    "   \n",
    "    # Generate variable names based on the index\n",
    "    variable_names = [f'x{i+1}' for i in range(K)]\n",
    "\n",
    "   \n",
    "    data = []\n",
    "    # Print the result with variable names and evaluate the expression\n",
    "    for product in cartesian_product:\n",
    "        # Create a dictionary of variable names and their corresponding values\n",
    "        variables = {variable_names[i]: Bool(product[i]) for i in range(K)}\n",
    "        \n",
    "        # Evaluate the expression using the variables\n",
    "        result = eval(expression, {}, variables)\n",
    "        result.backward()\n",
    "\n",
    "        tmp = variables\n",
    "        tmp['f: '+ expression] = result.data\n",
    "        tmp['f\\'(x1)'] = variables['x1'].grad\n",
    "\n",
    "        data.append(tmp)\n",
    "    \n",
    "    df = pd.DataFrame(data)\n",
    "    return df\n",
    "\n",
    "expression = \"x1 * x2\"\n",
    "K = 2\n",
    "df = test_Kary(expression=expression, K=K)\n",
    "print(df)\n"
   ]
  },
  {
   "cell_type": "code",
   "execution_count": 7,
   "metadata": {},
   "outputs": [
    {
     "name": "stdout",
     "output_type": "stream",
     "text": [
      "                 x1                x2  f: x1^x2  f'(x1)\n",
      "0   data:-1, grad:1   data:-1, grad:1        -1       1\n",
      "1  data:-1, grad:-1    data:1, grad:1         1      -1\n",
      "2   data:-1, grad:0    data:0, grad:0         0       0\n",
      "3    data:1, grad:1  data:-1, grad:-1         1       1\n",
      "4   data:1, grad:-1   data:1, grad:-1        -1      -1\n",
      "5    data:1, grad:0    data:0, grad:0         0       0\n",
      "6    data:0, grad:0   data:-1, grad:0         0       0\n",
      "7    data:0, grad:0    data:1, grad:0         0       0\n",
      "8    data:0, grad:0    data:0, grad:0         0       0\n"
     ]
    }
   ],
   "source": [
    "expression = \"x1^x2\"\n",
    "K = 2\n",
    "df = test_Kary(expression=expression, K=K)\n",
    "print(df)"
   ]
  },
  {
   "cell_type": "markdown",
   "metadata": {},
   "source": [
    "Can see $f_a'(x) = \\neg a$ and zero whenever any element is 0"
   ]
  },
  {
   "cell_type": "markdown",
   "metadata": {},
   "source": [
    "**Permutation Invariance**\n",
    "\n",
    "a*b*c  = c*b*c\n",
    "a+b+c = c+a+b"
   ]
  },
  {
   "cell_type": "code",
   "execution_count": 8,
   "metadata": {},
   "outputs": [
    {
     "name": "stdout",
     "output_type": "stream",
     "text": [
      "True\n",
      "True\n",
      "True\n",
      "True\n"
     ]
    }
   ],
   "source": [
    "K = 3\n",
    "expression = \"x1 * x2 * x3\"\n",
    "df1= test_Kary(expression=expression, K=K)\n",
    "expression = \"x3 * x2 * x1\"\n",
    "df2= test_Kary(expression=expression, K=K)\n",
    "\n",
    "\n",
    "print(np.all(df1[df1.columns[-1]]==df1[df1.columns[-1]]))\n",
    "print(np.all(df1[df1.columns[-2]]==df2[df2.columns[-2]]))\n",
    "\n",
    "expression = \"x1 + x2 + x3\"\n",
    "df1= test_Kary(expression=expression, K=K)\n",
    "\n",
    "expression = \"x3 + x2 + x1\"\n",
    "df2= test_Kary(expression=expression, K=K)\n",
    "\n",
    "print(np.all(df1[df1.columns[-1]]==df1[df1.columns[-1]]))\n",
    "print(np.all(df1[df1.columns[-2]]==df2[df2.columns[-2]]))"
   ]
  },
  {
   "cell_type": "code",
   "execution_count": 9,
   "metadata": {},
   "outputs": [
    {
     "name": "stdout",
     "output_type": "stream",
     "text": [
      "xor(a,b)\n",
      " data:-1, grad:1 data:-1, grad:0 data:1, grad:-1 data:1, grad:1\n"
     ]
    }
   ],
   "source": [
    "# check composition\n",
    "a = Bool(-1);b = Bool(1);c=Bool(1)\n",
    "z = b^a+c\n",
    "z.backward()\n",
    "print('xor(a,b)\\n', z,a,b,c)"
   ]
  }
 ],
 "metadata": {
  "kernelspec": {
   "display_name": "ai839",
   "language": "python",
   "name": "python3"
  },
  "language_info": {
   "codemirror_mode": {
    "name": "ipython",
    "version": 3
   },
   "file_extension": ".py",
   "mimetype": "text/x-python",
   "name": "python",
   "nbconvert_exporter": "python",
   "pygments_lexer": "ipython3",
   "version": "3.10.0"
  }
 },
 "nbformat": 4,
 "nbformat_minor": 2
}
