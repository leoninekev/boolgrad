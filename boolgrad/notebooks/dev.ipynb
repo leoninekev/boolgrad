{
 "cells": [
  {
   "cell_type": "code",
   "execution_count": 1,
   "metadata": {},
   "outputs": [],
   "source": [
    "%load_ext autoreload\n",
    "%autoreload 2\n",
    "import os\n",
    "import sys\n",
    "\n",
    "module_path = os.path.abspath(os.path.join('../')) # or the path\n",
    "sys.path.append(module_path)"
   ]
  },
  {
   "cell_type": "code",
   "execution_count": 13,
   "metadata": {},
   "outputs": [
    {
     "name": "stdout",
     "output_type": "stream",
     "text": [
      "Value(data=5, grad=1) 1\n",
      "Value(data=2, grad=1) 1\n",
      "Value(data=3, grad=1) 1\n"
     ]
    }
   ],
   "source": [
    "from engine import Value\n",
    "a = Value(2)\n",
    "b = Value(3)\n",
    "z = a+b\n",
    "z.backward()\n",
    "print(z, z.grad)\n",
    "print(a, a.grad)\n",
    "print(b, b.grad)\n",
    "\n"
   ]
  },
  {
   "cell_type": "code",
   "execution_count": 33,
   "metadata": {},
   "outputs": [
    {
     "name": "stdout",
     "output_type": "stream",
     "text": [
      "a+b+c\n",
      " Bool(data=0, grad=1) Bool(data=1, grad=0) Bool(data=-1, grad=0) Bool(data=1, grad=0)\n",
      "c+b+a\n",
      " Bool(data=0, grad=1) Bool(data=1, grad=0) Bool(data=-1, grad=0) Bool(data=1, grad=0)\n",
      "a*b+c\n",
      " Bool(data=-1, grad=1) Bool(data=1, grad=0) Bool(data=-1, grad=1) Bool(data=1, grad=0)\n",
      "c*b*a with no reset\n",
      " Bool(data=-1, grad=1) Bool(data=1, grad=0) Bool(data=-1, grad=1) Bool(data=1, grad=0)\n"
     ]
    }
   ],
   "source": [
    "from engine import Bool\n",
    "a = Bool(1);b = Bool(-1);c = Bool(1)\n",
    "z = a+b+c\n",
    "z.backward()\n",
    "print('a+b+c\\n', z,a,b,c)\n",
    "\n",
    "a = Bool(1);b = Bool(-1);c = Bool(1)\n",
    "z = c+b+a\n",
    "z.backward()\n",
    "print('c+b+a\\n', z,a,b,c)\n",
    "\n",
    "a = Bool(1);b = Bool(-1);c = Bool(1)\n",
    "z = a*b*c\n",
    "z.backward()\n",
    "print('a*b+c\\n', z,a,b,c)\n",
    "\n",
    "a = Bool(1);b = Bool(-1);c = Bool(1)\n",
    "z = c*b*a\n",
    "z.backward()\n",
    "print('c*b*a with no reset\\n', z,a,b,c)"
   ]
  }
 ],
 "metadata": {
  "kernelspec": {
   "display_name": "ai839",
   "language": "python",
   "name": "python3"
  },
  "language_info": {
   "codemirror_mode": {
    "name": "ipython",
    "version": 3
   },
   "file_extension": ".py",
   "mimetype": "text/x-python",
   "name": "python",
   "nbconvert_exporter": "python",
   "pygments_lexer": "ipython3",
   "version": "3.10.0"
  }
 },
 "nbformat": 4,
 "nbformat_minor": 2
}
