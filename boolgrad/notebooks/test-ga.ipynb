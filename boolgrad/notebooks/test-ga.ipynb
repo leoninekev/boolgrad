{
 "cells": [
  {
   "cell_type": "markdown",
   "id": "578d31d3",
   "metadata": {},
   "source": [
    "## Testing genetic algorithm\n",
    "*  Testing Genetic Algorithm as a replacement of GD in BNN Learning\n"
   ]
  },
  {
   "cell_type": "code",
   "execution_count": 1,
   "id": "ad4e2883",
   "metadata": {},
   "outputs": [],
   "source": [
    "%load_ext autoreload\n",
    "%autoreload 2\n",
    "import os\n",
    "import sys\n",
    "import pygad\n",
    "\n",
    "module_path = os.path.abspath(os.path.join('../')) # or the path\n",
    "sys.path.append(module_path)\n",
    "\n",
    "import itertools\n",
    "import pandas as pd\n",
    "import numpy as np\n",
    "from engine import Bool\n",
    "from bnn import ProdTron, SumTron, ProdLayer, SumLayer\n",
    "import matplotlib.pyplot as plt\n",
    "\n",
    "import random\n"
   ]
  },
  {
   "cell_type": "code",
   "execution_count": 177,
   "id": "ccbfca63",
   "metadata": {},
   "outputs": [],
   "source": [
    "def decode_chromosome(chromosome):\n",
    "    # Convert binary values to weights (-1 or +1)\n",
    "    weights = [(Bool(-1) if gene == 0 else Bool(1)) for gene in chromosome]\n",
    "    return weights\n",
    "\n",
    "def fitness_function(chromosome, data):\n",
    "    weights = decode_chromosome(chromosome)\n",
    "    total_error = 0\n",
    "    for x, y in data:\n",
    "        h = [x_i ^ w_i for x_i, w_i in zip(x, weights)]\n",
    "        y_pred = np.prod(h)# \n",
    "        if y_pred.data != y.data:\n",
    "            total_error += 1  # Count the misclassification\n",
    "    # Fitness is inversely proportional to total error\n",
    "#     print(\"total_error- \", total_error, \"y_pred: \", y_pred)\n",
    "    fitness = 1 / (1 + total_error)\n",
    "    return fitness\n",
    "\n",
    "def initialize_population():\n",
    "    population = []\n",
    "    for _ in range(POPULATION_SIZE):\n",
    "        chromosome = [random.choice([0, 1]) for _ in range(CHROMOSOME_LENGTH)]\n",
    "        population.append(chromosome)\n",
    "    return population\n",
    "\n",
    "def selection(population, fitnesses):\n",
    "    # Implement tournament selection\n",
    "    selected = []\n",
    "    for _ in range(POPULATION_SIZE):\n",
    "        i, j = random.sample(range(POPULATION_SIZE), 2)\n",
    "        if fitnesses[i] > fitnesses[j]:\n",
    "            selected.append(population[i])\n",
    "        else:\n",
    "            selected.append(population[j])\n",
    "    return selected\n",
    "\n",
    "def crossover(parent1, parent2):\n",
    "    if random.random() < CROSSOVER_RATE:\n",
    "        point = random.randint(1, CHROMOSOME_LENGTH - 1)\n",
    "        child1 = parent1[:point] + parent2[point:]\n",
    "        child2 = parent2[:point] + parent1[point:]\n",
    "        return child1, child2\n",
    "    else:\n",
    "        return parent1[:], parent2[:]\n",
    "\n",
    "def mutate(chromosome):\n",
    "    mutated = chromosome[:]\n",
    "    for i in range(CHROMOSOME_LENGTH):\n",
    "        if random.random() < MUTATION_RATE:\n",
    "            mutated[i] = 1 - mutated[i]  # Flip the bit\n",
    "    return mutated\n",
    "\n",
    "def run(data):\n",
    "    population = initialize_population()\n",
    "    best_fitness_over_generations= []\n",
    "    for generation in range(MAX_GENERATIONS):\n",
    "        # Evaluate fitness\n",
    "        fitnesses = [fitness_function(chromosome, data) for chromosome in population]\n",
    "        max_fitness = max(fitnesses)\n",
    "        best_fitness_over_generations.append(max_fitness)\n",
    "        if max_fitness == 0.05:#1.0:# \n",
    "            print(f\"Solution found at generation {generation}\")\n",
    "            break\n",
    "        # population selection on fitness\n",
    "        selected_population = selection(population, fitnesses)\n",
    "        next_generation = []\n",
    "        for i in range(0, POPULATION_SIZE, 2):\n",
    "            parent1 = selected_population[i]\n",
    "            parent2 = selected_population[i+1]\n",
    "            child1, child2 = crossover(parent1, parent2)\n",
    "            child1 = mutate(child1)\n",
    "            child2 = mutate(child2)\n",
    "            next_generation.extend([child1, child2])\n",
    "        # Prepare for the next generation\n",
    "        population = next_generation\n",
    "    else:\n",
    "        print(\"Reached maximum generations without finding a perfect solution.\")\n",
    "\n",
    "    fitnesses = [fitness_function(chromosome, data) for chromosome in population]\n",
    "    best_index = fitnesses.index(max(fitnesses))\n",
    "    best_chromosome = population[best_index]\n",
    "    best_weights = decode_chromosome(best_chromosome)\n",
    "    print(\"Best weights found:\", best_weights)\n",
    "    return best_weights, best_fitness_over_generations\n",
    "\n",
    "def create_sample_data(T = [-1,1]):\n",
    "    data= []\n",
    "    for element in itertools.product(T, repeat=5):\n",
    "        y = Bool(element[0])\n",
    "        x = [Bool(element[1]),Bool(element[2])]\n",
    "        data.append((x,y))\n",
    "    return data"
   ]
  },
  {
   "cell_type": "code",
   "execution_count": 178,
   "id": "f23176f1",
   "metadata": {},
   "outputs": [
    {
     "name": "stdout",
     "output_type": "stream",
     "text": [
      "Reached maximum generations without finding a perfect solution.\n",
      "Best weights found: [data:-1, grad:0, data:1, grad:0]\n"
     ]
    }
   ],
   "source": [
    "best_weights, fitness_over_generations = run(data)"
   ]
  },
  {
   "cell_type": "code",
   "execution_count": 167,
   "id": "6d139a2d",
   "metadata": {
    "scrolled": true
   },
   "outputs": [
    {
     "data": {
      "text/plain": [
       "[([data:-1, grad:0, data:-1, grad:0], data:-1, grad:0),\n",
       " ([data:-1, grad:0, data:-1, grad:0], data:-1, grad:0),\n",
       " ([data:-1, grad:0, data:-1, grad:0], data:-1, grad:0),\n",
       " ([data:-1, grad:0, data:-1, grad:0], data:-1, grad:0),\n",
       " ([data:-1, grad:0, data:1, grad:0], data:-1, grad:0)]"
      ]
     },
     "execution_count": 167,
     "metadata": {},
     "output_type": "execute_result"
    }
   ],
   "source": [
    "POPULATION_SIZE = 80\n",
    "CHROMOSOME_LENGTH = NUMBER_OF_WEIGHTS = 2\n",
    "MAX_GENERATIONS = 250\n",
    "CROSSOVER_RATE = 0.5\n",
    "MUTATION_RATE = 0.5\n",
    "\n",
    "\n",
    "T = [-1,1]\n",
    "data = create_sample_data()\n",
    "\n",
    "data[:5]"
   ]
  },
  {
   "cell_type": "code",
   "execution_count": 169,
   "id": "86927b3c",
   "metadata": {},
   "outputs": [
    {
     "name": "stdout",
     "output_type": "stream",
     "text": [
      "Reached maximum generations without finding a perfect solution.\n",
      "Best weights found: [data:1, grad:0, data:-1, grad:0]\n"
     ]
    }
   ],
   "source": [
    "# Run GA\n",
    "\n",
    "best_weights = run(data)"
   ]
  },
  {
   "cell_type": "code",
   "execution_count": 180,
   "id": "de9c3d7b",
   "metadata": {},
   "outputs": [
    {
     "data": {
      "image/png": "[encoded data removed]",
      "text/plain": [
       "<Figure size 640x480 with 1 Axes>"
      ]
     },
     "metadata": {},
     "output_type": "display_data"
    }
   ],
   "source": [
    "plt.plot(fitness_over_generations)\n",
    "plt.title('Fitness over Generations')\n",
    "plt.xlabel('Generation')\n",
    "plt.ylabel('Best Fitness')\n",
    "plt.grid(True)\n",
    "plt.show()\n"
   ]
  },
  {
   "cell_type": "markdown",
   "id": "737d3075",
   "metadata": {},
   "source": [
    "* Evaulate Best_weights"
   ]
  },
  {
   "cell_type": "code",
   "execution_count": 170,
   "id": "d2262503",
   "metadata": {},
   "outputs": [
    {
     "name": "stdout",
     "output_type": "stream",
     "text": [
      "-- Passed! --\n",
      "-- Passed! --\n",
      "-- Passed! --\n",
      "-- Passed! --\n",
      "[data:-1, grad:0, data:1, grad:0] data:-1, grad:0\n",
      "[data:-1, grad:0, data:1, grad:0] data:-1, grad:0\n",
      "[data:-1, grad:0, data:1, grad:0] data:-1, grad:0\n",
      "[data:-1, grad:0, data:1, grad:0] data:-1, grad:0\n",
      "-- Passed! --\n",
      "-- Passed! --\n",
      "-- Passed! --\n",
      "-- Passed! --\n",
      "-- Passed! --\n",
      "-- Passed! --\n",
      "-- Passed! --\n",
      "-- Passed! --\n",
      "[data:-1, grad:0, data:-1, grad:0] data:1, grad:0\n",
      "[data:-1, grad:0, data:-1, grad:0] data:1, grad:0\n",
      "[data:-1, grad:0, data:-1, grad:0] data:1, grad:0\n",
      "[data:-1, grad:0, data:-1, grad:0] data:1, grad:0\n",
      "-- Passed! --\n",
      "-- Passed! --\n",
      "-- Passed! --\n",
      "-- Passed! --\n",
      "[data:1, grad:0, data:-1, grad:0] data:1, grad:0\n",
      "[data:1, grad:0, data:-1, grad:0] data:1, grad:0\n",
      "[data:1, grad:0, data:-1, grad:0] data:1, grad:0\n",
      "[data:1, grad:0, data:-1, grad:0] data:1, grad:0\n",
      "[data:1, grad:0, data:1, grad:0] data:1, grad:0\n",
      "[data:1, grad:0, data:1, grad:0] data:1, grad:0\n",
      "[data:1, grad:0, data:1, grad:0] data:1, grad:0\n",
      "[data:1, grad:0, data:1, grad:0] data:1, grad:0\n",
      "Total fail:  16\n"
     ]
    }
   ],
   "source": [
    "c=0\n",
    "failed_tests = []\n",
    "for element in itertools.product(T, repeat=5):\n",
    "    y = Bool(element[0])\n",
    "    x = [Bool(element[1]),Bool(element[2])]\n",
    "    \n",
    "    yh = np.prod([ xi^wi for xi, wi in zip(x,best_weights)])\n",
    "    if yh.data == y.data:#element[2]:\n",
    "#         flag = True\n",
    "        print('-- Passed! --')\n",
    "        \n",
    "    else:\n",
    "        print(x, y)\n",
    "        failed_tests.append(((x[0].data, x[1].data), y.data))\n",
    "        c+=1\n",
    "print(\"Total fail: \", c)"
   ]
  },
  {
   "cell_type": "code",
   "execution_count": 171,
   "id": "99eff2d7",
   "metadata": {
    "scrolled": true
   },
   "outputs": [
    {
     "data": {
      "text/plain": [
       "{((-1, -1), 1), ((-1, 1), -1), ((1, -1), 1), ((1, 1), 1)}"
      ]
     },
     "execution_count": 171,
     "metadata": {},
     "output_type": "execute_result"
    }
   ],
   "source": [
    "set(failed_tests)# Run 2"
   ]
  },
  {
   "cell_type": "code",
   "execution_count": 166,
   "id": "0eb3f13f",
   "metadata": {
    "scrolled": true
   },
   "outputs": [
    {
     "data": {
      "text/plain": [
       "{((-1, -1), 1), ((-1, 1), 1), ((1, -1), 1), ((1, 1), -1)}"
      ]
     },
     "execution_count": 166,
     "metadata": {},
     "output_type": "execute_result"
    }
   ],
   "source": [
    "# set(failed_tests)# Run 1"
   ]
  },
  {
   "cell_type": "markdown",
   "id": "97f1373f",
   "metadata": {},
   "source": [
    "____________\n",
    "\n",
    "## Ignore cells below this"
   ]
  },
  {
   "cell_type": "code",
   "execution_count": 153,
   "id": "cd39c381",
   "metadata": {},
   "outputs": [
    {
     "name": "stdout",
     "output_type": "stream",
     "text": [
      "weights:  [data:1, grad:0, data:1, grad:0]\n",
      "fitness:  0.058823529411764705\n",
      "weights:  [data:-1, grad:0, data:1, grad:0]\n",
      "fitness:  0.058823529411764705\n",
      "weights:  [data:-1, grad:0, data:-1, grad:0]\n",
      "fitness:  0.058823529411764705\n"
     ]
    }
   ],
   "source": [
    "# for chromosome in population[6:9]:\n",
    "#     weights = decode_chromosome(chromosome)\n",
    "#     print(\"weights: \", weights)\n",
    "#     total_error = 0\n",
    "#     for x, y in data:\n",
    "#         h = [x_i^w_i for x_i, w_i in zip(x, weights)]\n",
    "#         y_pred = np.prod(h)#\n",
    "# #         print(f\"y_pred: {y_pred.data} vs. y: {y.data}\")\n",
    "#         if y_pred.data != y.data:\n",
    "#             total_error += 1  # Count the misclassification\n",
    "#     # Fitness is inversely proportional to total error\n",
    "#     #     print(\"total_error- \", total_error, \"y_pred: \", y_pred)\n",
    "#     fitness = 1 / (1 + total_error)\n",
    "#     print(\"fitness: \", fitness)\n",
    "# #     break"
   ]
  },
  {
   "cell_type": "code",
   "execution_count": 7,
   "id": "eb5bbbfd",
   "metadata": {},
   "outputs": [
    {
     "data": {
      "text/plain": [
       "[data:-1, grad:0, data:1, grad:0]"
      ]
     },
     "execution_count": 7,
     "metadata": {},
     "output_type": "execute_result"
    }
   ],
   "source": [
    "# def decode_chromosome(chromosome):\n",
    "#     # Convert binary genes to weights (-1 or +1)\n",
    "#     weights = [(Bool(-1) if gene == 0 else Bool(1)) for gene in chromosome]\n",
    "#     return weights\n",
    "# chromosome= population[0]\n",
    "# decode_chromosome(chromosome)"
   ]
  },
  {
   "cell_type": "code",
   "execution_count": 159,
   "id": "699052da",
   "metadata": {
    "scrolled": true
   },
   "outputs": [
    {
     "data": {
      "text/plain": [
       "[data:1, grad:0, data:1, grad:0]"
      ]
     },
     "execution_count": 159,
     "metadata": {},
     "output_type": "execute_result"
    }
   ],
   "source": [
    "best_weights"
   ]
  },
  {
   "cell_type": "markdown",
   "id": "7a4c82e9",
   "metadata": {},
   "source": [
    "* Generate simple dataset"
   ]
  },
  {
   "cell_type": "code",
   "execution_count": 156,
   "id": "172dbacc",
   "metadata": {},
   "outputs": [
    {
     "name": "stdout",
     "output_type": "stream",
     "text": [
      "   X1  X2  Y\n",
      "0  -1  -1 -1\n",
      "1   1   1 -1\n",
      "2  -1   1  1\n",
      "3  -1   1  1\n",
      "4  -1   1  1\n"
     ]
    },
    {
     "data": {
      "image/png": "[encoded data removed]",
      "text/plain": [
       "<Figure size 600x600 with 1 Axes>"
      ]
     },
     "metadata": {},
     "output_type": "display_data"
    }
   ],
   "source": [
    "import numpy as np\n",
    "import pandas as pd\n",
    "import matplotlib.pyplot as plt\n",
    "\n",
    "# Set random seed for reproducibility\n",
    "np.random.seed(42)\n",
    "\n",
    "num_samples = 100\n",
    "\n",
    "# Possible Boolean values (-1: False, +1: True)\n",
    "bool_values = np.array([-1, 1])\n",
    "\n",
    "X1 = np.random.choice(bool_values, num_samples)\n",
    "X2 = np.random.choice(bool_values, num_samples)\n",
    "\n",
    "# XOR operation\n",
    "def boolean_function(x1, x2):\n",
    "    return x1 * x2 * -1\n",
    "\n",
    "Y = boolean_function(X1, X2)\n",
    "\n",
    "data = pd.DataFrame({\n",
    "    'X1': X1,\n",
    "    'X2': X2,\n",
    "    'Y': Y\n",
    "})\n",
    "\n",
    "print(data.head())\n",
    "\n",
    "plt.figure(figsize=(6, 6))\n",
    "colors = {1: 'blue', -1: 'red'}\n",
    "plt.scatter(data['X1'], data['X2'], c=data['Y'].map(colors))\n",
    "plt.xlabel('X1')\n",
    "plt.ylabel('X2')\n",
    "plt.title('Binary Classification Dataset for Boolean Deep Learning')\n",
    "plt.grid(True)\n",
    "plt.show()\n"
   ]
  },
  {
   "cell_type": "code",
   "execution_count": 157,
   "id": "3b576786",
   "metadata": {},
   "outputs": [
    {
     "data": {
      "text/html": [
       "<div>\n",
       "<style scoped>\n",
       "    .dataframe tbody tr th:only-of-type {\n",
       "        vertical-align: middle;\n",
       "    }\n",
       "\n",
       "    .dataframe tbody tr th {\n",
       "        vertical-align: top;\n",
       "    }\n",
       "\n",
       "    .dataframe thead th {\n",
       "        text-align: right;\n",
       "    }\n",
       "</style>\n",
       "<table border=\"1\" class=\"dataframe\">\n",
       "  <thead>\n",
       "    <tr style=\"text-align: right;\">\n",
       "      <th></th>\n",
       "      <th>X1</th>\n",
       "      <th>X2</th>\n",
       "      <th>Y</th>\n",
       "    </tr>\n",
       "  </thead>\n",
       "  <tbody>\n",
       "    <tr>\n",
       "      <th>0</th>\n",
       "      <td>-1</td>\n",
       "      <td>-1</td>\n",
       "      <td>-1</td>\n",
       "    </tr>\n",
       "    <tr>\n",
       "      <th>1</th>\n",
       "      <td>1</td>\n",
       "      <td>1</td>\n",
       "      <td>-1</td>\n",
       "    </tr>\n",
       "    <tr>\n",
       "      <th>2</th>\n",
       "      <td>-1</td>\n",
       "      <td>1</td>\n",
       "      <td>1</td>\n",
       "    </tr>\n",
       "    <tr>\n",
       "      <th>3</th>\n",
       "      <td>-1</td>\n",
       "      <td>1</td>\n",
       "      <td>1</td>\n",
       "    </tr>\n",
       "    <tr>\n",
       "      <th>4</th>\n",
       "      <td>-1</td>\n",
       "      <td>1</td>\n",
       "      <td>1</td>\n",
       "    </tr>\n",
       "    <tr>\n",
       "      <th>...</th>\n",
       "      <td>...</td>\n",
       "      <td>...</td>\n",
       "      <td>...</td>\n",
       "    </tr>\n",
       "    <tr>\n",
       "      <th>95</th>\n",
       "      <td>1</td>\n",
       "      <td>1</td>\n",
       "      <td>-1</td>\n",
       "    </tr>\n",
       "    <tr>\n",
       "      <th>96</th>\n",
       "      <td>1</td>\n",
       "      <td>1</td>\n",
       "      <td>-1</td>\n",
       "    </tr>\n",
       "    <tr>\n",
       "      <th>97</th>\n",
       "      <td>1</td>\n",
       "      <td>1</td>\n",
       "      <td>-1</td>\n",
       "    </tr>\n",
       "    <tr>\n",
       "      <th>98</th>\n",
       "      <td>1</td>\n",
       "      <td>-1</td>\n",
       "      <td>1</td>\n",
       "    </tr>\n",
       "    <tr>\n",
       "      <th>99</th>\n",
       "      <td>-1</td>\n",
       "      <td>-1</td>\n",
       "      <td>-1</td>\n",
       "    </tr>\n",
       "  </tbody>\n",
       "</table>\n",
       "<p>100 rows × 3 columns</p>\n",
       "</div>"
      ],
      "text/plain": [
       "    X1  X2  Y\n",
       "0   -1  -1 -1\n",
       "1    1   1 -1\n",
       "2   -1   1  1\n",
       "3   -1   1  1\n",
       "4   -1   1  1\n",
       "..  ..  .. ..\n",
       "95   1   1 -1\n",
       "96   1   1 -1\n",
       "97   1   1 -1\n",
       "98   1  -1  1\n",
       "99  -1  -1 -1\n",
       "\n",
       "[100 rows x 3 columns]"
      ]
     },
     "execution_count": 157,
     "metadata": {},
     "output_type": "execute_result"
    }
   ],
   "source": [
    "data"
   ]
  }
 ],
 "metadata": {
  "kernelspec": {
   "display_name": "Python 3 (ipykernel)",
   "language": "python",
   "name": "python3"
  },
  "language_info": {
   "codemirror_mode": {
    "name": "ipython",
    "version": 3
   },
   "file_extension": ".py",
   "mimetype": "text/x-python",
   "name": "python",
   "nbconvert_exporter": "python",
   "pygments_lexer": "ipython3",
   "version": "3.9.6"
  }
 },
 "nbformat": 4,
 "nbformat_minor": 5
}
